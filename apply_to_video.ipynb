{
 "cells": [
  {
   "cell_type": "code",
   "execution_count": null,
   "metadata": {},
   "outputs": [],
   "source": [
    "import cv2\n",
    "import numpy as np\n",
    "import torch\n",
    "from models import SINet\n",
    "import torchvision.transforms as T\n"
   ]
  },
  {
   "cell_type": "code",
   "execution_count": null,
   "metadata": {},
   "outputs": [],
   "source": [
    "torch.cuda.init()\n",
    "\n",
    "model = SINet()\n",
    "\n",
    "state_dict = torch.load('checkpoints/best_model.pt')\n",
    "model.load_state_dict(state_dict)\n",
    "\n",
    "\n",
    "model = model.cuda()\n",
    "\n"
   ]
  },
  {
   "cell_type": "code",
   "execution_count": null,
   "metadata": {},
   "outputs": [],
   "source": [
    "cap = cv2.VideoCapture('movie.mov')\n",
    "\n",
    "width = int(cap.get(cv2.CAP_PROP_FRAME_WIDTH))\n",
    "height = int(cap.get(cv2.CAP_PROP_FRAME_HEIGHT))\n",
    "\n",
    "res=(int(width), int(height))\n",
    "fourcc = cv2.VideoWriter_fourcc(*'MP4V')\n",
    "writer = cv2.VideoWriter('./output.mp4', fourcc, 20.0, res)\n",
    "\n",
    "\n",
    "model.eval()\n",
    "\n",
    "data_info = torch.load('datasets/data_info.pt')\n",
    "\n",
    "\n",
    "ret, frame = cap.read()\n",
    "while(ret):\n",
    "    with torch.no_grad():\n",
    "\n",
    "        transform = T.Compose([T.ToTensor(),\n",
    "                               T.Normalize(data_info['mean'].reshape((3, 1, 1)) / 255.,\n",
    "                                           data_info['std'].reshape((3, 1, 1)) / 255.)])\n",
    "\n",
    "        img = transform(cv2.resize(frame, (224, 224))[..., ::-1].copy())\n",
    "\n",
    "        img = img.cuda()\n",
    "\n",
    "        m = model(img.unsqueeze(0))\n",
    "\n",
    "        mask = m.squeeze().detach().cpu().numpy()>=0.5\n",
    "\n",
    "        mask = cv2.resize(mask.astype(np.uint8), tuple(frame.shape[:2][::-1]))\n",
    "\n",
    "        frame[mask==0, :]=np.array((128,0,255)).reshape((1,1,3))\n",
    "\n",
    "        writer.write(frame)\n",
    "    \n",
    "    ret, frame = cap.read()\n",
    "    \n",
    "        \n",
    "writer.release()\n",
    "cap.release()\n",
    "    "
   ]
  },
  {
   "cell_type": "code",
   "execution_count": null,
   "metadata": {},
   "outputs": [],
   "source": []
  }
 ],
 "metadata": {
  "kernelspec": {
   "display_name": "Python 3",
   "language": "python",
   "name": "python3"
  },
  "language_info": {
   "codemirror_mode": {
    "name": "ipython",
    "version": 3
   },
   "file_extension": ".py",
   "mimetype": "text/x-python",
   "name": "python",
   "nbconvert_exporter": "python",
   "pygments_lexer": "ipython3",
   "version": "3.8.5"
  }
 },
 "nbformat": 4,
 "nbformat_minor": 4
}
